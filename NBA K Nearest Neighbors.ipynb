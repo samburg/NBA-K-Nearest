{
 "cells": [
  {
   "cell_type": "code",
   "execution_count": 1,
   "metadata": {},
   "outputs": [],
   "source": [
    "# Read the NBA data into a DataFrame.\n",
    "import pandas as pd\n",
    "import numpy as np\n",
    "\n",
    "path = 'data/NBA_players_2015.csv'\n",
    "nba = pd.read_csv(path, index_col=0)"
   ]
  },
  {
   "cell_type": "code",
   "execution_count": 2,
   "metadata": {},
   "outputs": [],
   "source": [
    "# Map positions to numbers\n",
    "nba['pos_num'] = nba.pos.map({'C':0, 'F':1, 'G':2})"
   ]
  },
  {
   "cell_type": "code",
   "execution_count": 3,
   "metadata": {},
   "outputs": [],
   "source": [
    "# Create feature matrix (X).\n",
    "feature_cols = ['ast', 'stl', 'blk', 'tov', 'pf']\n",
    "X = nba[feature_cols]"
   ]
  },
  {
   "cell_type": "code",
   "execution_count": 4,
   "metadata": {},
   "outputs": [],
   "source": [
    "# Create response vector (y).\n",
    "y = nba.pos_num"
   ]
  },
  {
   "cell_type": "code",
   "execution_count": 5,
   "metadata": {},
   "outputs": [
    {
     "name": "stdout",
     "output_type": "stream",
     "text": [
      "(478, 5)\n",
      "(478,)\n"
     ]
    },
    {
     "data": {
      "text/html": [
       "<div>\n",
       "<style scoped>\n",
       "    .dataframe tbody tr th:only-of-type {\n",
       "        vertical-align: middle;\n",
       "    }\n",
       "\n",
       "    .dataframe tbody tr th {\n",
       "        vertical-align: top;\n",
       "    }\n",
       "\n",
       "    .dataframe thead th {\n",
       "        text-align: right;\n",
       "    }\n",
       "</style>\n",
       "<table border=\"1\" class=\"dataframe\">\n",
       "  <thead>\n",
       "    <tr style=\"text-align: right;\">\n",
       "      <th></th>\n",
       "      <th>ast</th>\n",
       "      <th>stl</th>\n",
       "      <th>blk</th>\n",
       "      <th>tov</th>\n",
       "      <th>pf</th>\n",
       "    </tr>\n",
       "    <tr>\n",
       "      <th>season_end</th>\n",
       "      <th></th>\n",
       "      <th></th>\n",
       "      <th></th>\n",
       "      <th></th>\n",
       "      <th></th>\n",
       "    </tr>\n",
       "  </thead>\n",
       "  <tbody>\n",
       "    <tr>\n",
       "      <th>2015</th>\n",
       "      <td>1.0</td>\n",
       "      <td>0.4</td>\n",
       "      <td>0.3</td>\n",
       "      <td>0.9</td>\n",
       "      <td>2.2</td>\n",
       "    </tr>\n",
       "    <tr>\n",
       "      <th>2015</th>\n",
       "      <td>0.4</td>\n",
       "      <td>0.4</td>\n",
       "      <td>0.3</td>\n",
       "      <td>0.4</td>\n",
       "      <td>0.8</td>\n",
       "    </tr>\n",
       "    <tr>\n",
       "      <th>2015</th>\n",
       "      <td>1.0</td>\n",
       "      <td>0.4</td>\n",
       "      <td>1.2</td>\n",
       "      <td>1.6</td>\n",
       "      <td>3.0</td>\n",
       "    </tr>\n",
       "    <tr>\n",
       "      <th>2015</th>\n",
       "      <td>0.9</td>\n",
       "      <td>0.2</td>\n",
       "      <td>0.5</td>\n",
       "      <td>0.5</td>\n",
       "      <td>1.8</td>\n",
       "    </tr>\n",
       "    <tr>\n",
       "      <th>2015</th>\n",
       "      <td>1.9</td>\n",
       "      <td>0.6</td>\n",
       "      <td>0.1</td>\n",
       "      <td>1.6</td>\n",
       "      <td>2.1</td>\n",
       "    </tr>\n",
       "  </tbody>\n",
       "</table>\n",
       "</div>"
      ],
      "text/plain": [
       "            ast  stl  blk  tov   pf\n",
       "season_end                         \n",
       "2015        1.0  0.4  0.3  0.9  2.2\n",
       "2015        0.4  0.4  0.3  0.4  0.8\n",
       "2015        1.0  0.4  1.2  1.6  3.0\n",
       "2015        0.9  0.2  0.5  0.5  1.8\n",
       "2015        1.9  0.6  0.1  1.6  2.1"
      ]
     },
     "execution_count": 5,
     "metadata": {},
     "output_type": "execute_result"
    }
   ],
   "source": [
    "print(X.shape)\n",
    "print(y.shape)\n",
    "X.head()"
   ]
  },
  {
   "cell_type": "markdown",
   "metadata": {
    "collapsed": true
   },
   "source": [
    "<a id=\"using-the-traintest-split-procedure-k\"></a>\n",
    "### Using the Train/Test Split Procedure (K=1)"
   ]
  },
  {
   "cell_type": "code",
   "execution_count": 6,
   "metadata": {},
   "outputs": [],
   "source": [
    "from sklearn.neighbors import KNeighborsClassifier\n",
    "from sklearn.model_selection import train_test_split\n",
    "from sklearn import metrics"
   ]
  },
  {
   "cell_type": "code",
   "execution_count": 7,
   "metadata": {},
   "outputs": [],
   "source": [
    "X_train, X_test, y_train, y_test = train_test_split(X, y, random_state=99)"
   ]
  },
  {
   "cell_type": "code",
   "execution_count": 8,
   "metadata": {},
   "outputs": [
    {
     "data": {
      "text/plain": [
       "KNeighborsClassifier(algorithm='auto', leaf_size=30, metric='minkowski',\n",
       "           metric_params=None, n_jobs=None, n_neighbors=1, p=2,\n",
       "           weights='uniform')"
      ]
     },
     "execution_count": 8,
     "metadata": {},
     "output_type": "execute_result"
    }
   ],
   "source": [
    "knn = KNeighborsClassifier(n_neighbors=1)\n",
    "knn.fit(X_train, y_train)"
   ]
  },
  {
   "cell_type": "code",
   "execution_count": 9,
   "metadata": {},
   "outputs": [
    {
     "name": "stdout",
     "output_type": "stream",
     "text": [
      "0.6166666666666667\n"
     ]
    }
   ],
   "source": [
    "y_pred_class = knn.predict(X_test)\n",
    "print((metrics.accuracy_score(y_test, y_pred_class)))"
   ]
  },
  {
   "cell_type": "code",
   "execution_count": 10,
   "metadata": {},
   "outputs": [
    {
     "data": {
      "text/plain": [
       "0.6166666666666667"
      ]
     },
     "execution_count": 10,
     "metadata": {},
     "output_type": "execute_result"
    }
   ],
   "source": [
    "knn.score(X_test,y_test)"
   ]
  },
  {
   "cell_type": "code",
   "execution_count": 11,
   "metadata": {},
   "outputs": [
    {
     "name": "stdout",
     "output_type": "stream",
     "text": [
      "0.675\n"
     ]
    }
   ],
   "source": [
    "knn = KNeighborsClassifier(n_neighbors=50)\n",
    "knn.fit(X_train, y_train)\n",
    "y_pred_class = knn.predict(X_test)\n",
    "print((metrics.accuracy_score(y_test, y_pred_class)))"
   ]
  },
  {
   "cell_type": "code",
   "execution_count": 12,
   "metadata": {},
   "outputs": [
    {
     "name": "stdout",
     "output_type": "stream",
     "text": [
      "1    150\n",
      "2    140\n",
      "0     68\n",
      "Name: pos_num, dtype: int64\n"
     ]
    },
    {
     "data": {
      "text/plain": [
       "1"
      ]
     },
     "execution_count": 12,
     "metadata": {},
     "output_type": "execute_result"
    }
   ],
   "source": [
    "most_freq_class = y_train.value_counts().index[0]\n",
    "\n",
    "print(y_train.value_counts())\n",
    "most_freq_class"
   ]
  },
  {
   "cell_type": "code",
   "execution_count": 13,
   "metadata": {},
   "outputs": [
    {
     "data": {
      "text/plain": [
       "0.4083333333333333"
      ]
     },
     "execution_count": 13,
     "metadata": {},
     "output_type": "execute_result"
    }
   ],
   "source": [
    "y_test.value_counts()[most_freq_class] / len(y_test)"
   ]
  },
  {
   "cell_type": "code",
   "execution_count": 14,
   "metadata": {},
   "outputs": [],
   "source": [
    "# Instantiate the model (using the value K=5).\n",
    "knn = KNeighborsClassifier(n_neighbors=5)\n",
    "\n",
    "# Fit the model with data.\n",
    "knn.fit(X, y)\n",
    "\n",
    "# Store the predicted response values.\n",
    "y_pred_class = knn.predict(X)"
   ]
  },
  {
   "cell_type": "code",
   "execution_count": 15,
   "metadata": {},
   "outputs": [
    {
     "data": {
      "text/plain": [
       "array([[0. , 0.6, 0.4],\n",
       "       [0. , 0.8, 0.2],\n",
       "       [0.8, 0.2, 0. ],\n",
       "       ...,\n",
       "       [0. , 0.6, 0.4],\n",
       "       [0.6, 0.4, 0. ],\n",
       "       [0.6, 0.4, 0. ]])"
      ]
     },
     "execution_count": 15,
     "metadata": {},
     "output_type": "execute_result"
    }
   ],
   "source": [
    "# Calculate predicted probabilities of class membership.\n",
    "# Each row sums to one and contains the probabilities of the point being a 0-Center, 1-Front, 2-Guard.\n",
    "knn.predict_proba(X)"
   ]
  },
  {
   "cell_type": "code",
   "execution_count": 16,
   "metadata": {},
   "outputs": [
    {
     "data": {
      "text/html": [
       "<div>\n",
       "<style scoped>\n",
       "    .dataframe tbody tr th:only-of-type {\n",
       "        vertical-align: middle;\n",
       "    }\n",
       "\n",
       "    .dataframe tbody tr th {\n",
       "        vertical-align: top;\n",
       "    }\n",
       "\n",
       "    .dataframe thead th {\n",
       "        text-align: right;\n",
       "    }\n",
       "</style>\n",
       "<table border=\"1\" class=\"dataframe\">\n",
       "  <thead>\n",
       "    <tr style=\"text-align: right;\">\n",
       "      <th></th>\n",
       "      <th>season_end</th>\n",
       "      <th>ast</th>\n",
       "      <th>stl</th>\n",
       "      <th>blk</th>\n",
       "      <th>tov</th>\n",
       "      <th>pf</th>\n",
       "      <th>index</th>\n",
       "      <th>0</th>\n",
       "      <th>1</th>\n",
       "      <th>2</th>\n",
       "    </tr>\n",
       "  </thead>\n",
       "  <tbody>\n",
       "    <tr>\n",
       "      <th>0</th>\n",
       "      <td>2015</td>\n",
       "      <td>1.0</td>\n",
       "      <td>0.4</td>\n",
       "      <td>0.3</td>\n",
       "      <td>0.9</td>\n",
       "      <td>2.2</td>\n",
       "      <td>0</td>\n",
       "      <td>0.0</td>\n",
       "      <td>0.6</td>\n",
       "      <td>0.4</td>\n",
       "    </tr>\n",
       "    <tr>\n",
       "      <th>1</th>\n",
       "      <td>2015</td>\n",
       "      <td>0.4</td>\n",
       "      <td>0.4</td>\n",
       "      <td>0.3</td>\n",
       "      <td>0.4</td>\n",
       "      <td>0.8</td>\n",
       "      <td>1</td>\n",
       "      <td>0.0</td>\n",
       "      <td>0.8</td>\n",
       "      <td>0.2</td>\n",
       "    </tr>\n",
       "    <tr>\n",
       "      <th>2</th>\n",
       "      <td>2015</td>\n",
       "      <td>1.0</td>\n",
       "      <td>0.4</td>\n",
       "      <td>1.2</td>\n",
       "      <td>1.6</td>\n",
       "      <td>3.0</td>\n",
       "      <td>2</td>\n",
       "      <td>0.8</td>\n",
       "      <td>0.2</td>\n",
       "      <td>0.0</td>\n",
       "    </tr>\n",
       "    <tr>\n",
       "      <th>3</th>\n",
       "      <td>2015</td>\n",
       "      <td>0.9</td>\n",
       "      <td>0.2</td>\n",
       "      <td>0.5</td>\n",
       "      <td>0.5</td>\n",
       "      <td>1.8</td>\n",
       "      <td>3</td>\n",
       "      <td>0.2</td>\n",
       "      <td>0.6</td>\n",
       "      <td>0.2</td>\n",
       "    </tr>\n",
       "    <tr>\n",
       "      <th>4</th>\n",
       "      <td>2015</td>\n",
       "      <td>1.9</td>\n",
       "      <td>0.6</td>\n",
       "      <td>0.1</td>\n",
       "      <td>1.6</td>\n",
       "      <td>2.1</td>\n",
       "      <td>4</td>\n",
       "      <td>0.0</td>\n",
       "      <td>0.4</td>\n",
       "      <td>0.6</td>\n",
       "    </tr>\n",
       "  </tbody>\n",
       "</table>\n",
       "</div>"
      ],
      "text/plain": [
       "   season_end  ast  stl  blk  tov   pf  index    0    1    2\n",
       "0        2015  1.0  0.4  0.3  0.9  2.2      0  0.0  0.6  0.4\n",
       "1        2015  0.4  0.4  0.3  0.4  0.8      1  0.0  0.8  0.2\n",
       "2        2015  1.0  0.4  1.2  1.6  3.0      2  0.8  0.2  0.0\n",
       "3        2015  0.9  0.2  0.5  0.5  1.8      3  0.2  0.6  0.2\n",
       "4        2015  1.9  0.6  0.1  1.6  2.1      4  0.0  0.4  0.6"
      ]
     },
     "execution_count": 16,
     "metadata": {},
     "output_type": "execute_result"
    }
   ],
   "source": [
    "# How can we use these predictions?\n",
    "# Calculate predicted probabilities of class membership.\n",
    "# Each row sums to one and contains the probabilities of the point being a 0-Center, 1-Front, 2-Guard.\n",
    "\n",
    "preds = pd.DataFrame(knn.predict_proba(X))\n",
    "X_withpreds = pd.concat([X.reset_index(), preds.reset_index()], axis=1)\n",
    "X_withpreds.head()"
   ]
  },
  {
   "cell_type": "code",
   "execution_count": 17,
   "metadata": {},
   "outputs": [
    {
     "data": {
      "text/html": [
       "<div>\n",
       "<style scoped>\n",
       "    .dataframe tbody tr th:only-of-type {\n",
       "        vertical-align: middle;\n",
       "    }\n",
       "\n",
       "    .dataframe tbody tr th {\n",
       "        vertical-align: top;\n",
       "    }\n",
       "\n",
       "    .dataframe thead th {\n",
       "        text-align: right;\n",
       "    }\n",
       "</style>\n",
       "<table border=\"1\" class=\"dataframe\">\n",
       "  <thead>\n",
       "    <tr style=\"text-align: right;\">\n",
       "      <th></th>\n",
       "      <th>season_end</th>\n",
       "      <th>ast</th>\n",
       "      <th>stl</th>\n",
       "      <th>blk</th>\n",
       "      <th>tov</th>\n",
       "      <th>pf</th>\n",
       "      <th>index</th>\n",
       "      <th>pos</th>\n",
       "    </tr>\n",
       "  </thead>\n",
       "  <tbody>\n",
       "    <tr>\n",
       "      <th>0</th>\n",
       "      <td>2015</td>\n",
       "      <td>1.0</td>\n",
       "      <td>0.4</td>\n",
       "      <td>0.3</td>\n",
       "      <td>0.9</td>\n",
       "      <td>2.2</td>\n",
       "      <td>0</td>\n",
       "      <td>1</td>\n",
       "    </tr>\n",
       "    <tr>\n",
       "      <th>1</th>\n",
       "      <td>2015</td>\n",
       "      <td>0.4</td>\n",
       "      <td>0.4</td>\n",
       "      <td>0.3</td>\n",
       "      <td>0.4</td>\n",
       "      <td>0.8</td>\n",
       "      <td>1</td>\n",
       "      <td>1</td>\n",
       "    </tr>\n",
       "    <tr>\n",
       "      <th>2</th>\n",
       "      <td>2015</td>\n",
       "      <td>1.0</td>\n",
       "      <td>0.4</td>\n",
       "      <td>1.2</td>\n",
       "      <td>1.6</td>\n",
       "      <td>3.0</td>\n",
       "      <td>2</td>\n",
       "      <td>0</td>\n",
       "    </tr>\n",
       "    <tr>\n",
       "      <th>3</th>\n",
       "      <td>2015</td>\n",
       "      <td>0.9</td>\n",
       "      <td>0.2</td>\n",
       "      <td>0.5</td>\n",
       "      <td>0.5</td>\n",
       "      <td>1.8</td>\n",
       "      <td>3</td>\n",
       "      <td>1</td>\n",
       "    </tr>\n",
       "    <tr>\n",
       "      <th>4</th>\n",
       "      <td>2015</td>\n",
       "      <td>1.9</td>\n",
       "      <td>0.6</td>\n",
       "      <td>0.1</td>\n",
       "      <td>1.6</td>\n",
       "      <td>2.1</td>\n",
       "      <td>4</td>\n",
       "      <td>2</td>\n",
       "    </tr>\n",
       "  </tbody>\n",
       "</table>\n",
       "</div>"
      ],
      "text/plain": [
       "   season_end  ast  stl  blk  tov   pf  index  pos\n",
       "0        2015  1.0  0.4  0.3  0.9  2.2      0    1\n",
       "1        2015  0.4  0.4  0.3  0.4  0.8      1    1\n",
       "2        2015  1.0  0.4  1.2  1.6  3.0      2    0\n",
       "3        2015  0.9  0.2  0.5  0.5  1.8      3    1\n",
       "4        2015  1.9  0.6  0.1  1.6  2.1      4    2"
      ]
     },
     "execution_count": 17,
     "metadata": {},
     "output_type": "execute_result"
    }
   ],
   "source": [
    "#Show the predicted class\n",
    "preds = pd.DataFrame(knn.predict(X), columns=['pos'])\n",
    "X_withpreds = pd.concat([X.reset_index(), preds.reset_index()], axis=1)\n",
    "X_withpreds.head()"
   ]
  },
  {
   "cell_type": "code",
   "execution_count": 18,
   "metadata": {},
   "outputs": [],
   "source": [
    "scores = []\n",
    "for k in range(1,101):\n",
    "    knn = KNeighborsClassifier(n_neighbors=k)\n",
    "    knn.fit(X,y)\n",
    "    pred = knn.predict(X)\n",
    "    score = float(sum(pred == y)) / len(y)\n",
    "    scores.append([k, score])"
   ]
  },
  {
   "cell_type": "code",
   "execution_count": 19,
   "metadata": {},
   "outputs": [],
   "source": [
    "data = pd.DataFrame(scores,columns=['k','score'])\n",
    "data.plot.line(x='k',y='score');"
   ]
  },
  {
   "cell_type": "code",
   "execution_count": 20,
   "metadata": {},
   "outputs": [],
   "source": [
    "# Calculate TRAINING ERROR and TESTING ERROR for K=1 through 100.\n",
    "\n",
    "k_range = list(range(1, 101))\n",
    "training_error = []\n",
    "testing_error = []\n",
    "\n",
    "# Find test accuracy for all values of K between 1 and 100 (inclusive).\n",
    "for k in k_range:\n",
    "\n",
    "    # Instantiate the model with the current K value.\n",
    "    knn = KNeighborsClassifier(n_neighbors=k)\n",
    "    knn.fit(X_train, y_train)\n",
    "    \n",
    "    # Calculate training error (error = 1 - accuracy).\n",
    "    y_pred_class = knn.predict(X)\n",
    "    training_accuracy = metrics.accuracy_score(y, y_pred_class)\n",
    "    training_error.append(1 - training_accuracy)\n",
    "    \n",
    "    # Calculate testing error.\n",
    "    y_pred_class = knn.predict(X_test)\n",
    "    testing_accuracy = metrics.accuracy_score(y_test, y_pred_class)\n",
    "    testing_error.append(1 - testing_accuracy)"
   ]
  },
  {
   "cell_type": "code",
   "execution_count": 21,
   "metadata": {},
   "outputs": [],
   "source": [
    "# Allow plots to appear in the notebook.\n",
    "%matplotlib inline\n",
    "import matplotlib.pyplot as plt\n",
    "plt.style.use('seaborn-deep')"
   ]
  },
  {
   "cell_type": "code",
   "execution_count": 22,
   "metadata": {},
   "outputs": [
    {
     "data": {
      "text/html": [
       "<div>\n",
       "<style scoped>\n",
       "    .dataframe tbody tr th:only-of-type {\n",
       "        vertical-align: middle;\n",
       "    }\n",
       "\n",
       "    .dataframe tbody tr th {\n",
       "        vertical-align: top;\n",
       "    }\n",
       "\n",
       "    .dataframe thead th {\n",
       "        text-align: right;\n",
       "    }\n",
       "</style>\n",
       "<table border=\"1\" class=\"dataframe\">\n",
       "  <thead>\n",
       "    <tr style=\"text-align: right;\">\n",
       "      <th></th>\n",
       "      <th>training error</th>\n",
       "      <th>testing error</th>\n",
       "    </tr>\n",
       "    <tr>\n",
       "      <th>K</th>\n",
       "      <th></th>\n",
       "      <th></th>\n",
       "    </tr>\n",
       "  </thead>\n",
       "  <tbody>\n",
       "    <tr>\n",
       "      <th>1</th>\n",
       "      <td>0.096234</td>\n",
       "      <td>0.383333</td>\n",
       "    </tr>\n",
       "    <tr>\n",
       "      <th>2</th>\n",
       "      <td>0.267782</td>\n",
       "      <td>0.450000</td>\n",
       "    </tr>\n",
       "    <tr>\n",
       "      <th>3</th>\n",
       "      <td>0.225941</td>\n",
       "      <td>0.366667</td>\n",
       "    </tr>\n",
       "    <tr>\n",
       "      <th>4</th>\n",
       "      <td>0.263598</td>\n",
       "      <td>0.383333</td>\n",
       "    </tr>\n",
       "    <tr>\n",
       "      <th>5</th>\n",
       "      <td>0.282427</td>\n",
       "      <td>0.325000</td>\n",
       "    </tr>\n",
       "  </tbody>\n",
       "</table>\n",
       "</div>"
      ],
      "text/plain": [
       "   training error  testing error\n",
       "K                               \n",
       "1        0.096234       0.383333\n",
       "2        0.267782       0.450000\n",
       "3        0.225941       0.366667\n",
       "4        0.263598       0.383333\n",
       "5        0.282427       0.325000"
      ]
     },
     "execution_count": 22,
     "metadata": {},
     "output_type": "execute_result"
    }
   ],
   "source": [
    "# Create a DataFrame of K, training error, and testing error.\n",
    "column_dict = {'K': k_range, 'training error':training_error, 'testing error':testing_error}\n",
    "df = pd.DataFrame(column_dict).set_index('K').sort_index(ascending=True)\n",
    "df.head()"
   ]
  },
  {
   "cell_type": "code",
   "execution_count": 23,
   "metadata": {},
   "outputs": [
    {
     "data": {
      "image/png": "[encoded data removed]",
      "text/plain": [
       "<Figure size 720x576 with 1 Axes>"
      ]
     },
     "metadata": {
      "needs_background": "light"
     },
     "output_type": "display_data"
    }
   ],
   "source": [
    "# Plot the relationship between K (HIGH TO LOW) and TESTING ERROR.\n",
    "df.plot(y='testing error', linewidth=2, figsize=(10, 8));\n",
    "plt.xlabel('Value of K for KNN');\n",
    "plt.ylabel('Error (lower is better)');"
   ]
  },
  {
   "cell_type": "code",
   "execution_count": 24,
   "metadata": {},
   "outputs": [
    {
     "data": {
      "text/html": [
       "<div>\n",
       "<style scoped>\n",
       "    .dataframe tbody tr th:only-of-type {\n",
       "        vertical-align: middle;\n",
       "    }\n",
       "\n",
       "    .dataframe tbody tr th {\n",
       "        vertical-align: top;\n",
       "    }\n",
       "\n",
       "    .dataframe thead th {\n",
       "        text-align: right;\n",
       "    }\n",
       "</style>\n",
       "<table border=\"1\" class=\"dataframe\">\n",
       "  <thead>\n",
       "    <tr style=\"text-align: right;\">\n",
       "      <th></th>\n",
       "      <th>training error</th>\n",
       "      <th>testing error</th>\n",
       "    </tr>\n",
       "    <tr>\n",
       "      <th>K</th>\n",
       "      <th></th>\n",
       "      <th></th>\n",
       "    </tr>\n",
       "  </thead>\n",
       "  <tbody>\n",
       "    <tr>\n",
       "      <th>14</th>\n",
       "      <td>0.299163</td>\n",
       "      <td>0.258333</td>\n",
       "    </tr>\n",
       "    <tr>\n",
       "      <th>13</th>\n",
       "      <td>0.307531</td>\n",
       "      <td>0.266667</td>\n",
       "    </tr>\n",
       "    <tr>\n",
       "      <th>18</th>\n",
       "      <td>0.307531</td>\n",
       "      <td>0.266667</td>\n",
       "    </tr>\n",
       "    <tr>\n",
       "      <th>16</th>\n",
       "      <td>0.299163</td>\n",
       "      <td>0.266667</td>\n",
       "    </tr>\n",
       "    <tr>\n",
       "      <th>15</th>\n",
       "      <td>0.309623</td>\n",
       "      <td>0.266667</td>\n",
       "    </tr>\n",
       "  </tbody>\n",
       "</table>\n",
       "</div>"
      ],
      "text/plain": [
       "    training error  testing error\n",
       "K                                \n",
       "14        0.299163       0.258333\n",
       "13        0.307531       0.266667\n",
       "18        0.307531       0.266667\n",
       "16        0.299163       0.266667\n",
       "15        0.309623       0.266667"
      ]
     },
     "execution_count": 24,
     "metadata": {},
     "output_type": "execute_result"
    }
   ],
   "source": [
    "# Find the minimum testing error and the associated K value.\n",
    "df.sort_values('testing error').head()"
   ]
  },
  {
   "cell_type": "code",
   "execution_count": 25,
   "metadata": {},
   "outputs": [
    {
     "data": {
      "text/plain": [
       "(0.2583333333333333, 14)"
      ]
     },
     "execution_count": 25,
     "metadata": {},
     "output_type": "execute_result"
    }
   ],
   "source": [
    "# Alternative method:\n",
    "min(list(zip(testing_error, k_range)))"
   ]
  },
  {
   "cell_type": "code",
   "execution_count": 26,
   "metadata": {},
   "outputs": [
    {
     "data": {
      "image/png": "[encoded data removed]",
      "text/plain": [
       "<Figure size 432x288 with 1 Axes>"
      ]
     },
     "metadata": {
      "needs_background": "light"
     },
     "output_type": "display_data"
    }
   ],
   "source": [
    "# Plot the relationship between K (HIGH TO LOW) and both TRAINING ERROR and TESTING ERROR.\n",
    "df.plot();\n",
    "plt.xlabel('Value of K for KNN');\n",
    "plt.ylabel('Error (lower is better)');"
   ]
  },
  {
   "cell_type": "code",
   "execution_count": 27,
   "metadata": {},
   "outputs": [
    {
     "data": {
      "text/plain": [
       "array([2])"
      ]
     },
     "execution_count": 27,
     "metadata": {},
     "output_type": "execute_result"
    }
   ],
   "source": [
    "#import numpy as np\n",
    "\n",
    "# Instantiate the model with the best-known parameters.\n",
    "knn = KNeighborsClassifier(n_neighbors=14)\n",
    "\n",
    "# Re-train the model with X and y (not X_train and y_train). Why?\n",
    "knn.fit(X, y)\n",
    "\n",
    "# Make a prediction for an out-of-sample observation.\n",
    "knn.predict(np.array([2, 1, 0, 1, 2]).reshape(1, -1))\n"
   ]
  },
  {
   "cell_type": "code",
   "execution_count": 28,
   "metadata": {},
   "outputs": [
    {
     "data": {
      "text/plain": [
       "0.7857142857142857"
      ]
     },
     "execution_count": 28,
     "metadata": {},
     "output_type": "execute_result"
    }
   ],
   "source": [
    "#What's the probability of that prediction?\n",
    "np.amax(knn.predict_proba(np.array([2, 1, 0, 1, 2]).reshape(1, -1)))\n"
   ]
  },
  {
   "cell_type": "code",
   "execution_count": 29,
   "metadata": {},
   "outputs": [
    {
     "data": {
      "text/plain": [
       "(0.2583333333333333, 14)"
      ]
     },
     "execution_count": 29,
     "metadata": {},
     "output_type": "execute_result"
    }
   ],
   "source": [
    "min(list(zip(testing_error, k_range)))"
   ]
  },
  {
   "cell_type": "code",
   "execution_count": 30,
   "metadata": {},
   "outputs": [],
   "source": [
    "\n",
    "from sklearn.model_selection import cross_val_score\n",
    "from sklearn.model_selection import GridSearchCV "
   ]
  },
  {
   "cell_type": "code",
   "execution_count": 31,
   "metadata": {},
   "outputs": [],
   "source": [
    "\n",
    "# Create feature matrix (X).\n",
    "feature_cols = ['ast', 'stl', 'blk', 'tov', 'pf']\n",
    "\n",
    "X = nba[feature_cols]\n",
    "y = nba.pos_num  # Create response vector (y)."
   ]
  },
  {
   "cell_type": "code",
   "execution_count": 32,
   "metadata": {},
   "outputs": [
    {
     "name": "stdout",
     "output_type": "stream",
     "text": [
      "[0.66666667 0.66666667 0.77083333 0.5        0.66666667 0.77083333\n",
      " 0.6875     0.5625     0.60416667 0.67391304]\n"
     ]
    }
   ],
   "source": [
    "\n",
    "# instantiate model\n",
    "knn = KNeighborsClassifier(n_neighbors=5)\n",
    "\n",
    "# Capture our cross validation scores\n",
    "scores = cross_val_score(knn, X, y, cv=10, scoring='accuracy')\n",
    "print(scores)"
   ]
  },
  {
   "cell_type": "markdown",
   "metadata": {},
   "source": [
    "#### We use average accuracy as an estimate of out-of-sample accuracy"
   ]
  },
  {
   "cell_type": "code",
   "execution_count": 33,
   "metadata": {},
   "outputs": [
    {
     "data": {
      "text/plain": [
       "numpy.ndarray"
      ]
     },
     "execution_count": 33,
     "metadata": {},
     "output_type": "execute_result"
    }
   ],
   "source": [
    "# What kind of object is scores?\n",
    "type(scores)"
   ]
  },
  {
   "cell_type": "code",
   "execution_count": 34,
   "metadata": {},
   "outputs": [
    {
     "name": "stdout",
     "output_type": "stream",
     "text": [
      "0.6569746376811595\n"
     ]
    }
   ],
   "source": [
    "# It's a numpy array! We know those! Let's calculate the mean to give us an estimate of out-of-sample accuracy\n",
    "print(scores.mean())"
   ]
  },
  {
   "cell_type": "markdown",
   "metadata": {},
   "source": [
    "#### Good - well to understand where we're going we have to understand where we've been. Let's run through this quickly the old way\n",
    "\n",
    "In the below we'll capture the accuaracy of k from 1 to 30. To do so we'll\n",
    "- establish a range to pass to k\n",
    "- Create a list to hold our scores\n",
    "- Design a for loop to do the heavy lifting for us\n",
    "- Look at our scores\n"
   ]
  },
  {
   "cell_type": "code",
   "execution_count": 35,
   "metadata": {},
   "outputs": [
    {
     "name": "stdout",
     "output_type": "stream",
     "text": [
      "[0.6047101449275363, 0.6109601449275361, 0.6278079710144927, 0.6423913043478261, 0.6569746376811595, 0.661141304347826, 0.6714673913043478, 0.6693840579710144, 0.6653079710144928, 0.6819746376811594, 0.6736413043478261, 0.6673913043478261, 0.667391304347826, 0.6738224637681159, 0.6528079710144927, 0.661141304347826, 0.6528985507246376, 0.6652173913043479, 0.6737318840579711, 0.6653079710144928, 0.6568840579710146, 0.6631340579710144, 0.667481884057971, 0.6673913043478261, 0.6717391304347826, 0.6694746376811593, 0.6632246376811594, 0.6633152173913043, 0.6528985507246376, 0.6549818840579709]\n"
     ]
    }
   ],
   "source": [
    "# list of integers 1 to 30\n",
    "k_range = range(1, 31)\n",
    "# list of scores from k_range\n",
    "k_scores = []\n",
    "# 1. we will loop through reasonable values of k\n",
    "for k in k_range:\n",
    "    # 2. run KNeighborsClassifier with k neighbours\n",
    "    knn = KNeighborsClassifier(n_neighbors=k)\n",
    "    # 3. obtain cross_val_score for KNeighborsClassifier with k neighbours\n",
    "    scores = cross_val_score(knn, X, y, cv=10, scoring='accuracy')\n",
    "    # 4. append mean of scores for k neighbors to k_scores list\n",
    "    k_scores.append(scores.mean())\n",
    "print(k_scores)"
   ]
  },
  {
   "cell_type": "code",
   "execution_count": 36,
   "metadata": {},
   "outputs": [
    {
     "data": {
      "text/plain": [
       "{1: 0.6047101449275363,\n",
       " 2: 0.6109601449275361,\n",
       " 3: 0.6278079710144927,\n",
       " 4: 0.6423913043478261,\n",
       " 5: 0.6569746376811595,\n",
       " 6: 0.661141304347826,\n",
       " 7: 0.6714673913043478,\n",
       " 8: 0.6693840579710144,\n",
       " 9: 0.6653079710144928,\n",
       " 10: 0.6819746376811594,\n",
       " 11: 0.6736413043478261,\n",
       " 12: 0.6673913043478261,\n",
       " 13: 0.667391304347826,\n",
       " 14: 0.6738224637681159,\n",
       " 15: 0.6528079710144927,\n",
       " 16: 0.661141304347826,\n",
       " 17: 0.6528985507246376,\n",
       " 18: 0.6652173913043479,\n",
       " 19: 0.6737318840579711,\n",
       " 20: 0.6653079710144928,\n",
       " 21: 0.6568840579710146,\n",
       " 22: 0.6631340579710144,\n",
       " 23: 0.667481884057971,\n",
       " 24: 0.6673913043478261,\n",
       " 25: 0.6717391304347826,\n",
       " 26: 0.6694746376811593,\n",
       " 27: 0.6632246376811594,\n",
       " 28: 0.6633152173913043,\n",
       " 29: 0.6528985507246376,\n",
       " 30: 0.6549818840579709}"
      ]
     },
     "execution_count": 36,
     "metadata": {},
     "output_type": "execute_result"
    }
   ],
   "source": [
    "k_dict=dict(zip(k_range,k_scores))\n",
    "k_dict"
   ]
  },
  {
   "cell_type": "code",
   "execution_count": 37,
   "metadata": {},
   "outputs": [
    {
     "data": {
      "text/plain": [
       "10"
      ]
     },
     "execution_count": 37,
     "metadata": {},
     "output_type": "execute_result"
    }
   ],
   "source": [
    "# What value of k gave us our highest score?\n",
    "max(k_dict, key= k_dict.get)"
   ]
  },
  {
   "cell_type": "code",
   "execution_count": 38,
   "metadata": {},
   "outputs": [
    {
     "data": {
      "text/plain": [
       "Text(0, 0.5, 'Cross-Validated Accuracy')"
      ]
     },
     "execution_count": 38,
     "metadata": {},
     "output_type": "execute_result"
    },
    {
     "data": {
      "image/png": "[encoded data removed]",
      "text/plain": [
       "<Figure size 432x288 with 1 Axes>"
      ]
     },
     "metadata": {
      "needs_background": "light"
     },
     "output_type": "display_data"
    }
   ],
   "source": [
    "# plot the value of K for KNN (x-axis) versus the cross-validated accuracy (y-axis)\n",
    "plt.plot(k_range, k_scores)\n",
    "plt.xlabel('Value of K for KNN')\n",
    "plt.ylabel('Cross-Validated Accuracy')"
   ]
  },
  {
   "cell_type": "code",
   "execution_count": 39,
   "metadata": {},
   "outputs": [
    {
     "name": "stdout",
     "output_type": "stream",
     "text": [
      "{'n_neighbors': [1, 2, 3, 4, 5, 6, 7, 8, 9, 10, 11, 12, 13, 14, 15, 16, 17, 18, 19, 20, 21, 22, 23, 24, 25, 26, 27, 28, 29, 30]}\n"
     ]
    }
   ],
   "source": [
    "# We have our k_range let's use that to build a parameter grid\n",
    "\n",
    "param_grid=dict(n_neighbors=list(k_range))\n",
    "print(param_grid)"
   ]
  },
  {
   "cell_type": "code",
   "execution_count": 40,
   "metadata": {},
   "outputs": [],
   "source": [
    "# instantiate a GridSearch object - here a classifier (clf)\n",
    "clf = GridSearchCV(knn, param_grid, cv=10, scoring='accuracy', return_train_score=True)"
   ]
  },
  {
   "cell_type": "code",
   "execution_count": 41,
   "metadata": {},
   "outputs": [
    {
     "data": {
      "text/plain": [
       "sklearn.model_selection._search.GridSearchCV"
      ]
     },
     "execution_count": 41,
     "metadata": {},
     "output_type": "execute_result"
    }
   ],
   "source": [
    "type(clf)"
   ]
  },
  {
   "cell_type": "code",
   "execution_count": 42,
   "metadata": {},
   "outputs": [
    {
     "name": "stderr",
     "output_type": "stream",
     "text": [
      "/Users/samuelburgess/anaconda3/lib/python3.7/site-packages/sklearn/model_selection/_search.py:841: DeprecationWarning: The default of the `iid` parameter will change from True to False in version 0.22 and will be removed in 0.24. This will change numeric results when test-set sizes are unequal.\n",
      "  DeprecationWarning)\n"
     ]
    },
    {
     "data": {
      "text/plain": [
       "GridSearchCV(cv=10, error_score='raise-deprecating',\n",
       "       estimator=KNeighborsClassifier(algorithm='auto', leaf_size=30, metric='minkowski',\n",
       "           metric_params=None, n_jobs=None, n_neighbors=30, p=2,\n",
       "           weights='uniform'),\n",
       "       fit_params=None, iid='warn', n_jobs=None,\n",
       "       param_grid={'n_neighbors': [1, 2, 3, 4, 5, 6, 7, 8, 9, 10, 11, 12, 13, 14, 15, 16, 17, 18, 19, 20, 21, 22, 23, 24, 25, 26, 27, 28, 29, 30]},\n",
       "       pre_dispatch='2*n_jobs', refit=True, return_train_score=True,\n",
       "       scoring='accuracy', verbose=0)"
      ]
     },
     "execution_count": 42,
     "metadata": {},
     "output_type": "execute_result"
    }
   ],
   "source": [
    "clf.fit(X,y)"
   ]
  },
  {
   "cell_type": "code",
   "execution_count": 43,
   "metadata": {
    "scrolled": false
   },
   "outputs": [
    {
     "data": {
      "text/plain": [
       "{'mean_fit_time': array([0.00142198, 0.00133471, 0.00136905, 0.00140045, 0.00144949,\n",
       "        0.00134559, 0.0013402 , 0.00139356, 0.00120273, 0.0011199 ,\n",
       "        0.00106893, 0.00126278, 0.0011791 , 0.00119193, 0.00124481,\n",
       "        0.00122459, 0.0013104 , 0.00146854, 0.00144262, 0.00138772,\n",
       "        0.00145328, 0.00150783, 0.00137839, 0.00131719, 0.00120804,\n",
       "        0.00138757, 0.00152578, 0.00135338, 0.0014286 , 0.00150459]),\n",
       " 'std_fit_time': array([1.25834236e-04, 7.46911642e-05, 7.77056443e-05, 1.11254828e-04,\n",
       "        2.31520061e-04, 7.32851399e-05, 1.00233496e-04, 2.00731765e-04,\n",
       "        6.30017385e-05, 9.23578800e-05, 8.27765959e-05, 1.40333275e-04,\n",
       "        5.17133416e-05, 7.23184548e-05, 1.95188282e-04, 7.36552170e-05,\n",
       "        1.27052936e-04, 3.45871841e-04, 9.88185505e-05, 1.16284553e-04,\n",
       "        1.28012051e-04, 2.37341428e-04, 1.77335964e-04, 2.82009696e-04,\n",
       "        8.17269156e-05, 2.42133370e-04, 2.37829774e-04, 2.89535531e-04,\n",
       "        1.56635636e-04, 1.50071648e-04]),\n",
       " 'mean_score_time': array([0.00114305, 0.00114191, 0.00124779, 0.00115426, 0.00117061,\n",
       "        0.00120993, 0.00114794, 0.00114889, 0.00103757, 0.00096784,\n",
       "        0.00093544, 0.00109673, 0.00110753, 0.00107965, 0.00115852,\n",
       "        0.00112147, 0.00121586, 0.00122089, 0.00132163, 0.00125868,\n",
       "        0.00131717, 0.00129797, 0.00125794, 0.00116961, 0.00122118,\n",
       "        0.00132122, 0.00145345, 0.00121505, 0.00141783, 0.0014555 ]),\n",
       " 'std_score_time': array([8.26951705e-05, 1.18825737e-04, 1.94790174e-04, 4.34938552e-05,\n",
       "        8.82877519e-05, 1.86472650e-04, 7.59560434e-05, 9.29444061e-05,\n",
       "        3.68153260e-05, 6.54873126e-05, 5.67361332e-05, 7.89840128e-05,\n",
       "        1.52558572e-04, 5.68690237e-05, 1.76513169e-04, 6.02425581e-05,\n",
       "        1.10116508e-04, 3.80868438e-05, 9.69318611e-05, 5.12267215e-05,\n",
       "        1.11031519e-04, 6.32150531e-05, 1.19988176e-04, 5.59116782e-05,\n",
       "        1.84269276e-04, 1.69167691e-04, 2.01091304e-04, 6.41817368e-05,\n",
       "        3.08432004e-04, 1.91732385e-04]),\n",
       " 'param_n_neighbors': masked_array(data=[1, 2, 3, 4, 5, 6, 7, 8, 9, 10, 11, 12, 13, 14, 15, 16,\n",
       "                    17, 18, 19, 20, 21, 22, 23, 24, 25, 26, 27, 28, 29, 30],\n",
       "              mask=[False, False, False, False, False, False, False, False,\n",
       "                    False, False, False, False, False, False, False, False,\n",
       "                    False, False, False, False, False, False, False, False,\n",
       "                    False, False, False, False, False, False],\n",
       "        fill_value='?',\n",
       "             dtype=object),\n",
       " 'params': [{'n_neighbors': 1},\n",
       "  {'n_neighbors': 2},\n",
       "  {'n_neighbors': 3},\n",
       "  {'n_neighbors': 4},\n",
       "  {'n_neighbors': 5},\n",
       "  {'n_neighbors': 6},\n",
       "  {'n_neighbors': 7},\n",
       "  {'n_neighbors': 8},\n",
       "  {'n_neighbors': 9},\n",
       "  {'n_neighbors': 10},\n",
       "  {'n_neighbors': 11},\n",
       "  {'n_neighbors': 12},\n",
       "  {'n_neighbors': 13},\n",
       "  {'n_neighbors': 14},\n",
       "  {'n_neighbors': 15},\n",
       "  {'n_neighbors': 16},\n",
       "  {'n_neighbors': 17},\n",
       "  {'n_neighbors': 18},\n",
       "  {'n_neighbors': 19},\n",
       "  {'n_neighbors': 20},\n",
       "  {'n_neighbors': 21},\n",
       "  {'n_neighbors': 22},\n",
       "  {'n_neighbors': 23},\n",
       "  {'n_neighbors': 24},\n",
       "  {'n_neighbors': 25},\n",
       "  {'n_neighbors': 26},\n",
       "  {'n_neighbors': 27},\n",
       "  {'n_neighbors': 28},\n",
       "  {'n_neighbors': 29},\n",
       "  {'n_neighbors': 30}],\n",
       " 'split0_test_score': array([0.52083333, 0.60416667, 0.64583333, 0.70833333, 0.66666667,\n",
       "        0.70833333, 0.66666667, 0.64583333, 0.64583333, 0.6875    ,\n",
       "        0.6875    , 0.66666667, 0.64583333, 0.64583333, 0.66666667,\n",
       "        0.64583333, 0.66666667, 0.6875    , 0.64583333, 0.64583333,\n",
       "        0.625     , 0.64583333, 0.64583333, 0.64583333, 0.625     ,\n",
       "        0.64583333, 0.625     , 0.625     , 0.625     , 0.625     ]),\n",
       " 'split1_test_score': array([0.625     , 0.625     , 0.6875    , 0.625     , 0.66666667,\n",
       "        0.77083333, 0.75      , 0.77083333, 0.75      , 0.79166667,\n",
       "        0.77083333, 0.75      , 0.72916667, 0.72916667, 0.70833333,\n",
       "        0.6875    , 0.6875    , 0.70833333, 0.72916667, 0.70833333,\n",
       "        0.70833333, 0.75      , 0.72916667, 0.75      , 0.75      ,\n",
       "        0.75      , 0.72916667, 0.72916667, 0.72916667, 0.72916667]),\n",
       " 'split2_test_score': array([0.64583333, 0.72916667, 0.70833333, 0.77083333, 0.77083333,\n",
       "        0.8125    , 0.75      , 0.77083333, 0.72916667, 0.75      ,\n",
       "        0.70833333, 0.72916667, 0.72916667, 0.70833333, 0.66666667,\n",
       "        0.72916667, 0.66666667, 0.70833333, 0.72916667, 0.75      ,\n",
       "        0.75      , 0.72916667, 0.6875    , 0.70833333, 0.70833333,\n",
       "        0.72916667, 0.6875    , 0.70833333, 0.66666667, 0.6875    ]),\n",
       " 'split3_test_score': array([0.5       , 0.5       , 0.52083333, 0.5       , 0.5       ,\n",
       "        0.47916667, 0.54166667, 0.52083333, 0.54166667, 0.47916667,\n",
       "        0.54166667, 0.45833333, 0.52083333, 0.5       , 0.52083333,\n",
       "        0.54166667, 0.58333333, 0.5625    , 0.5625    , 0.5625    ,\n",
       "        0.5625    , 0.58333333, 0.60416667, 0.58333333, 0.60416667,\n",
       "        0.60416667, 0.58333333, 0.58333333, 0.60416667, 0.58333333]),\n",
       " 'split4_test_score': array([0.625     , 0.64583333, 0.5625    , 0.66666667, 0.66666667,\n",
       "        0.58333333, 0.66666667, 0.60416667, 0.64583333, 0.64583333,\n",
       "        0.64583333, 0.66666667, 0.6875    , 0.66666667, 0.6875    ,\n",
       "        0.66666667, 0.66666667, 0.66666667, 0.66666667, 0.64583333,\n",
       "        0.64583333, 0.64583333, 0.64583333, 0.64583333, 0.64583333,\n",
       "        0.64583333, 0.64583333, 0.64583333, 0.64583333, 0.625     ]),\n",
       " 'split5_test_score': array([0.70833333, 0.66666667, 0.75      , 0.77083333, 0.77083333,\n",
       "        0.75      , 0.77083333, 0.75      , 0.72916667, 0.75      ,\n",
       "        0.72916667, 0.77083333, 0.75      , 0.72916667, 0.64583333,\n",
       "        0.64583333, 0.6875    , 0.64583333, 0.66666667, 0.66666667,\n",
       "        0.66666667, 0.64583333, 0.70833333, 0.6875    , 0.72916667,\n",
       "        0.72916667, 0.75      , 0.72916667, 0.70833333, 0.72916667]),\n",
       " 'split6_test_score': array([0.64583333, 0.54166667, 0.625     , 0.5625    , 0.6875    ,\n",
       "        0.60416667, 0.64583333, 0.6875    , 0.625     , 0.70833333,\n",
       "        0.6875    , 0.66666667, 0.66666667, 0.6875    , 0.6875    ,\n",
       "        0.6875    , 0.64583333, 0.66666667, 0.66666667, 0.64583333,\n",
       "        0.64583333, 0.625     , 0.64583333, 0.625     , 0.64583333,\n",
       "        0.625     , 0.66666667, 0.64583333, 0.64583333, 0.625     ]),\n",
       " 'split7_test_score': array([0.60416667, 0.64583333, 0.54166667, 0.5625    , 0.5625    ,\n",
       "        0.60416667, 0.64583333, 0.66666667, 0.66666667, 0.6875    ,\n",
       "        0.64583333, 0.625     , 0.625     , 0.625     , 0.58333333,\n",
       "        0.625     , 0.58333333, 0.64583333, 0.64583333, 0.64583333,\n",
       "        0.625     , 0.66666667, 0.64583333, 0.66666667, 0.66666667,\n",
       "        0.64583333, 0.625     , 0.625     , 0.58333333, 0.60416667]),\n",
       " 'split8_test_score': array([0.54166667, 0.52083333, 0.5625    , 0.58333333, 0.60416667,\n",
       "        0.625     , 0.625     , 0.625     , 0.64583333, 0.64583333,\n",
       "        0.64583333, 0.66666667, 0.64583333, 0.72916667, 0.6875    ,\n",
       "        0.70833333, 0.64583333, 0.70833333, 0.72916667, 0.70833333,\n",
       "        0.6875    , 0.6875    , 0.66666667, 0.6875    , 0.625     ,\n",
       "        0.64583333, 0.64583333, 0.64583333, 0.625     , 0.64583333]),\n",
       " 'split9_test_score': array([0.63043478, 0.63043478, 0.67391304, 0.67391304, 0.67391304,\n",
       "        0.67391304, 0.65217391, 0.65217391, 0.67391304, 0.67391304,\n",
       "        0.67391304, 0.67391304, 0.67391304, 0.7173913 , 0.67391304,\n",
       "        0.67391304, 0.69565217, 0.65217391, 0.69565217, 0.67391304,\n",
       "        0.65217391, 0.65217391, 0.69565217, 0.67391304, 0.7173913 ,\n",
       "        0.67391304, 0.67391304, 0.69565217, 0.69565217, 0.69565217]),\n",
       " 'mean_test_score': array([0.60460251, 0.61087866, 0.62761506, 0.64225941, 0.65690377,\n",
       "        0.66108787, 0.67154812, 0.66945607, 0.66527197, 0.68200837,\n",
       "        0.67364017, 0.66736402, 0.66736402, 0.67364017, 0.65271967,\n",
       "        0.66108787, 0.65271967, 0.66527197, 0.67364017, 0.66527197,\n",
       "        0.65690377, 0.66317992, 0.66736402, 0.66736402, 0.67154812,\n",
       "        0.66945607, 0.66317992, 0.66317992, 0.65271967, 0.65481172]),\n",
       " 'std_test_score': array([0.06140753, 0.06748428, 0.0741425 , 0.08719635, 0.08002382,\n",
       "        0.0962154 , 0.06566002, 0.07535517, 0.05795779, 0.08131687,\n",
       "        0.058306  , 0.08195463, 0.06266707, 0.06783069, 0.05470095,\n",
       "        0.04958064, 0.03814932, 0.04197193, 0.04884444, 0.04809449,\n",
       "        0.04863768, 0.0463    , 0.03545623, 0.04384381, 0.04812309,\n",
       "        0.04711768, 0.04753192, 0.04695029, 0.04447902, 0.04924045]),\n",
       " 'rank_test_score': array([30, 29, 28, 27, 21, 19,  5,  7, 13,  1,  2,  9,  9,  2, 24, 19, 24,\n",
       "        13,  2, 13, 21, 16,  9,  9,  5,  7, 16, 16, 24, 23], dtype=int32),\n",
       " 'split0_train_score': array([1.        , 0.81860465, 0.82790698, 0.77674419, 0.74186047,\n",
       "        0.73255814, 0.7255814 , 0.72325581, 0.73023256, 0.72093023,\n",
       "        0.7255814 , 0.72790698, 0.72093023, 0.71627907, 0.71627907,\n",
       "        0.71627907, 0.71627907, 0.70697674, 0.71627907, 0.69767442,\n",
       "        0.69069767, 0.69069767, 0.69069767, 0.69069767, 0.68604651,\n",
       "        0.68372093, 0.68604651, 0.68372093, 0.69302326, 0.68139535]),\n",
       " 'split1_train_score': array([1.        , 0.80697674, 0.80697674, 0.7627907 , 0.74883721,\n",
       "        0.73023256, 0.72325581, 0.72325581, 0.72325581, 0.72325581,\n",
       "        0.7255814 , 0.72093023, 0.70232558, 0.70697674, 0.7       ,\n",
       "        0.71860465, 0.68139535, 0.69767442, 0.69534884, 0.69767442,\n",
       "        0.69302326, 0.68372093, 0.68139535, 0.68604651, 0.68837209,\n",
       "        0.70232558, 0.68139535, 0.69302326, 0.67906977, 0.66744186]),\n",
       " 'split2_train_score': array([1.        , 0.81395349, 0.78837209, 0.76976744, 0.73255814,\n",
       "        0.7255814 , 0.71860465, 0.72790698, 0.73255814, 0.72325581,\n",
       "        0.7255814 , 0.71162791, 0.70232558, 0.71162791, 0.70465116,\n",
       "        0.7       , 0.70232558, 0.70465116, 0.68837209, 0.69302326,\n",
       "        0.69534884, 0.67906977, 0.68139535, 0.67674419, 0.67906977,\n",
       "        0.68837209, 0.68604651, 0.68604651, 0.68604651, 0.67209302]),\n",
       " 'split3_train_score': array([1.        , 0.82325581, 0.80930233, 0.80232558, 0.77209302,\n",
       "        0.75813953, 0.75348837, 0.7372093 , 0.75116279, 0.73255814,\n",
       "        0.73953488, 0.72790698, 0.7255814 , 0.73023256, 0.73023256,\n",
       "        0.71627907, 0.71860465, 0.70232558, 0.70465116, 0.68372093,\n",
       "        0.68837209, 0.68372093, 0.68139535, 0.68372093, 0.69534884,\n",
       "        0.69302326, 0.70232558, 0.69069767, 0.69534884, 0.68372093]),\n",
       " 'split4_train_score': array([1.        , 0.81395349, 0.79534884, 0.77209302, 0.75348837,\n",
       "        0.74418605, 0.73488372, 0.73488372, 0.74418605, 0.7372093 ,\n",
       "        0.72790698, 0.7255814 , 0.71860465, 0.72790698, 0.72325581,\n",
       "        0.71162791, 0.71162791, 0.70232558, 0.70232558, 0.70465116,\n",
       "        0.69767442, 0.68139535, 0.69302326, 0.69767442, 0.69069767,\n",
       "        0.69767442, 0.69069767, 0.69069767, 0.69302326, 0.68604651]),\n",
       " 'split5_train_score': array([1.        , 0.80930233, 0.81627907, 0.76744186, 0.7372093 ,\n",
       "        0.72093023, 0.73255814, 0.71627907, 0.71395349, 0.72093023,\n",
       "        0.70930233, 0.69534884, 0.70232558, 0.71162791, 0.70232558,\n",
       "        0.71162791, 0.70465116, 0.70697674, 0.71395349, 0.69302326,\n",
       "        0.68372093, 0.68139535, 0.6744186 , 0.68604651, 0.68372093,\n",
       "        0.68372093, 0.6744186 , 0.66976744, 0.6744186 , 0.66976744]),\n",
       " 'split6_train_score': array([1.        , 0.81395349, 0.79069767, 0.76511628, 0.74651163,\n",
       "        0.73255814, 0.73255814, 0.73023256, 0.73953488, 0.72093023,\n",
       "        0.7255814 , 0.7255814 , 0.72790698, 0.71395349, 0.70232558,\n",
       "        0.70465116, 0.70930233, 0.70930233, 0.7       , 0.7       ,\n",
       "        0.69302326, 0.68372093, 0.69069767, 0.69069767, 0.70232558,\n",
       "        0.69767442, 0.68604651, 0.67906977, 0.68139535, 0.66976744]),\n",
       " 'split7_train_score': array([1.        , 0.81162791, 0.80930233, 0.78139535, 0.77906977,\n",
       "        0.76976744, 0.74418605, 0.73953488, 0.71860465, 0.71627907,\n",
       "        0.73488372, 0.72325581, 0.72790698, 0.72325581, 0.72325581,\n",
       "        0.71860465, 0.71395349, 0.69534884, 0.70697674, 0.69767442,\n",
       "        0.69534884, 0.69767442, 0.69767442, 0.69302326, 0.70465116,\n",
       "        0.69069767, 0.68372093, 0.68139535, 0.67674419, 0.6744186 ]),\n",
       " 'split8_train_score': array([1.        , 0.82325581, 0.81860465, 0.79302326, 0.76744186,\n",
       "        0.75116279, 0.73488372, 0.7372093 , 0.74418605, 0.7372093 ,\n",
       "        0.7372093 , 0.7255814 , 0.71627907, 0.71162791, 0.71627907,\n",
       "        0.71860465, 0.70930233, 0.70697674, 0.70930233, 0.69302326,\n",
       "        0.70232558, 0.70232558, 0.7       , 0.70465116, 0.69534884,\n",
       "        0.70465116, 0.69302326, 0.7       , 0.7       , 0.68837209]),\n",
       " 'split9_train_score': array([1.        , 0.81944444, 0.82407407, 0.77314815, 0.74768519,\n",
       "        0.75      , 0.7337963 , 0.72453704, 0.72222222, 0.71759259,\n",
       "        0.71064815, 0.71527778, 0.70601852, 0.71527778, 0.71064815,\n",
       "        0.71064815, 0.69907407, 0.69444444, 0.69444444, 0.69675926,\n",
       "        0.69907407, 0.69212963, 0.69907407, 0.69444444, 0.68518519,\n",
       "        0.69212963, 0.69212963, 0.69675926, 0.69212963, 0.6712963 ]),\n",
       " 'mean_train_score': array([1.        , 0.81543282, 0.80868648, 0.77638458, 0.7526755 ,\n",
       "        0.74151163, 0.73337963, 0.72943045, 0.73198966, 0.72501507,\n",
       "        0.72618109, 0.71989987, 0.71502046, 0.71687661, 0.71292528,\n",
       "        0.71269272, 0.70665159, 0.70270026, 0.70316537, 0.69572244,\n",
       "        0.6938609 , 0.68758506, 0.68897717, 0.69037468, 0.69107666,\n",
       "        0.69339901, 0.68758506, 0.68711779, 0.68711994, 0.67643196]),\n",
       " 'std_train_score': array([0.        , 0.00527904, 0.01296175, 0.01199765, 0.01459763,\n",
       "        0.01487327, 0.00953306, 0.0072731 , 0.01183891, 0.00736176,\n",
       "        0.00951979, 0.0096433 , 0.01028362, 0.0072997 , 0.01000447,\n",
       "        0.00602326, 0.010226  , 0.005     , 0.00842299, 0.00525755,\n",
       "        0.0051201 , 0.00737122, 0.00840111, 0.00740554, 0.00782976,\n",
       "        0.00681545, 0.00714772, 0.00854782, 0.00834335, 0.00729163])}"
      ]
     },
     "execution_count": 43,
     "metadata": {},
     "output_type": "execute_result"
    }
   ],
   "source": [
    "# Want to know everything about what we just tested?\n",
    "clf.cv_results_"
   ]
  },
  {
   "cell_type": "code",
   "execution_count": 44,
   "metadata": {},
   "outputs": [
    {
     "data": {
      "text/plain": [
       "[(0.604602510460251, {'n_neighbors': 1}),\n",
       " (0.6108786610878661, {'n_neighbors': 2}),\n",
       " (0.6276150627615062, {'n_neighbors': 3}),\n",
       " (0.6422594142259415, {'n_neighbors': 4}),\n",
       " (0.6569037656903766, {'n_neighbors': 5}),\n",
       " (0.6610878661087866, {'n_neighbors': 6}),\n",
       " (0.6715481171548117, {'n_neighbors': 7}),\n",
       " (0.6694560669456067, {'n_neighbors': 8}),\n",
       " (0.6652719665271967, {'n_neighbors': 9}),\n",
       " (0.6820083682008368, {'n_neighbors': 10}),\n",
       " (0.6736401673640168, {'n_neighbors': 11}),\n",
       " (0.6673640167364017, {'n_neighbors': 12}),\n",
       " (0.6673640167364017, {'n_neighbors': 13}),\n",
       " (0.6736401673640168, {'n_neighbors': 14}),\n",
       " (0.6527196652719666, {'n_neighbors': 15}),\n",
       " (0.6610878661087866, {'n_neighbors': 16}),\n",
       " (0.6527196652719666, {'n_neighbors': 17}),\n",
       " (0.6652719665271967, {'n_neighbors': 18}),\n",
       " (0.6736401673640168, {'n_neighbors': 19}),\n",
       " (0.6652719665271967, {'n_neighbors': 20}),\n",
       " (0.6569037656903766, {'n_neighbors': 21}),\n",
       " (0.6631799163179917, {'n_neighbors': 22}),\n",
       " (0.6673640167364017, {'n_neighbors': 23}),\n",
       " (0.6673640167364017, {'n_neighbors': 24}),\n",
       " (0.6715481171548117, {'n_neighbors': 25}),\n",
       " (0.6694560669456067, {'n_neighbors': 26}),\n",
       " (0.6631799163179917, {'n_neighbors': 27}),\n",
       " (0.6631799163179917, {'n_neighbors': 28}),\n",
       " (0.6527196652719666, {'n_neighbors': 29}),\n",
       " (0.6548117154811716, {'n_neighbors': 30})]"
      ]
     },
     "execution_count": 44,
     "metadata": {},
     "output_type": "execute_result"
    }
   ],
   "source": [
    "# You can slice by the key/value pairs you want to make this a little easier to understand\n",
    "\n",
    "list(zip(clf.cv_results_['mean_test_score'],clf.cv_results_['params']))"
   ]
  },
  {
   "cell_type": "code",
   "execution_count": 45,
   "metadata": {},
   "outputs": [
    {
     "data": {
      "text/plain": [
       "(0.6820083682008368, {'n_neighbors': 10})"
      ]
     },
     "execution_count": 45,
     "metadata": {},
     "output_type": "execute_result"
    }
   ],
   "source": [
    "# We can find ways to make this easier on ourselves\n",
    "knn_score=list(zip(clf.cv_results_['mean_test_score'],clf.cv_results_['params']))\n",
    "\n",
    "sorted(knn_score,key=lambda x: x[0],reverse=True)[0]"
   ]
  },
  {
   "cell_type": "code",
   "execution_count": 46,
   "metadata": {},
   "outputs": [
    {
     "name": "stdout",
     "output_type": "stream",
     "text": [
      "0.6820083682008368\n",
      "{'n_neighbors': 10}\n"
     ]
    }
   ],
   "source": [
    "# You can also skip to the end\n",
    "print(clf.best_score_)\n",
    "print(clf.best_params_)\n",
    "knn=clf.best_estimator_"
   ]
  },
  {
   "cell_type": "code",
   "execution_count": 47,
   "metadata": {},
   "outputs": [
    {
     "data": {
      "text/plain": [
       "Text(0, 0.5, 'Cross-Validated Accuracy')"
      ]
     },
     "execution_count": 47,
     "metadata": {},
     "output_type": "execute_result"
    },
    {
     "data": {
      "image/png": "[encoded data removed]",
      "text/plain": [
       "<Figure size 432x288 with 1 Axes>"
      ]
     },
     "metadata": {
      "needs_background": "light"
     },
     "output_type": "display_data"
    }
   ],
   "source": [
    "# plot the results\n",
    "# this is identical to the one we generated above\n",
    "mean_scores=clf.cv_results_['mean_test_score'].tolist()\n",
    "plt.plot(k_range, mean_scores)\n",
    "plt.xlabel('Value of K for KNN')\n",
    "plt.ylabel('Cross-Validated Accuracy')"
   ]
  },
  {
   "cell_type": "markdown",
   "metadata": {},
   "source": [
    "### Use `StandardScaler` to Standardize our Data\n"
   ]
  },
  {
   "cell_type": "code",
   "execution_count": 48,
   "metadata": {},
   "outputs": [],
   "source": [
    "# Create feature matrix (X).\n",
    "feature_cols = ['ast', 'stl', 'blk', 'tov', 'pf']\n",
    "\n",
    "X = nba[feature_cols]\n",
    "y = nba.pos_num  # Create response vector (y)."
   ]
  },
  {
   "cell_type": "markdown",
   "metadata": {},
   "source": [
    "#### Create the train/test split.\n",
    "\n",
    "Notice that we create the train/test split first. This is because we will reveal information about our testing data if we standardize right away."
   ]
  },
  {
   "cell_type": "code",
   "execution_count": 49,
   "metadata": {},
   "outputs": [],
   "source": [
    "X_train, X_test, y_train, y_test = train_test_split(X, y, random_state=99)"
   ]
  },
  {
   "cell_type": "markdown",
   "metadata": {
    "collapsed": true
   },
   "source": [
    "#### Instantiate and fit `StandardScaler`."
   ]
  },
  {
   "cell_type": "code",
   "execution_count": 50,
   "metadata": {},
   "outputs": [],
   "source": [
    "from sklearn.preprocessing import StandardScaler\n",
    "\n",
    "scaler = StandardScaler()\n",
    "X_train = scaler.fit_transform(X_train)\n",
    "X_test = scaler.transform(X_test)"
   ]
  },
  {
   "cell_type": "code",
   "execution_count": 51,
   "metadata": {},
   "outputs": [
    {
     "data": {
      "text/html": [
       "<div>\n",
       "<style scoped>\n",
       "    .dataframe tbody tr th:only-of-type {\n",
       "        vertical-align: middle;\n",
       "    }\n",
       "\n",
       "    .dataframe tbody tr th {\n",
       "        vertical-align: top;\n",
       "    }\n",
       "\n",
       "    .dataframe thead th {\n",
       "        text-align: right;\n",
       "    }\n",
       "</style>\n",
       "<table border=\"1\" class=\"dataframe\">\n",
       "  <thead>\n",
       "    <tr style=\"text-align: right;\">\n",
       "      <th></th>\n",
       "      <th>0</th>\n",
       "      <th>1</th>\n",
       "      <th>2</th>\n",
       "      <th>3</th>\n",
       "      <th>4</th>\n",
       "    </tr>\n",
       "  </thead>\n",
       "  <tbody>\n",
       "    <tr>\n",
       "      <th>count</th>\n",
       "      <td>3.580000e+02</td>\n",
       "      <td>3.580000e+02</td>\n",
       "      <td>3.580000e+02</td>\n",
       "      <td>3.580000e+02</td>\n",
       "      <td>3.580000e+02</td>\n",
       "    </tr>\n",
       "    <tr>\n",
       "      <th>mean</th>\n",
       "      <td>2.977134e-17</td>\n",
       "      <td>1.628120e-17</td>\n",
       "      <td>2.356898e-17</td>\n",
       "      <td>-1.690144e-16</td>\n",
       "      <td>2.459237e-16</td>\n",
       "    </tr>\n",
       "    <tr>\n",
       "      <th>std</th>\n",
       "      <td>1.001400e+00</td>\n",
       "      <td>1.001400e+00</td>\n",
       "      <td>1.001400e+00</td>\n",
       "      <td>1.001400e+00</td>\n",
       "      <td>1.001400e+00</td>\n",
       "    </tr>\n",
       "    <tr>\n",
       "      <th>min</th>\n",
       "      <td>-9.985280e-01</td>\n",
       "      <td>-1.470964e+00</td>\n",
       "      <td>-8.774583e-01</td>\n",
       "      <td>-1.477139e+00</td>\n",
       "      <td>-2.400753e+00</td>\n",
       "    </tr>\n",
       "    <tr>\n",
       "      <th>25%</th>\n",
       "      <td>-6.616071e-01</td>\n",
       "      <td>-7.870613e-01</td>\n",
       "      <td>-6.667742e-01</td>\n",
       "      <td>-7.015598e-01</td>\n",
       "      <td>-7.428789e-01</td>\n",
       "    </tr>\n",
       "    <tr>\n",
       "      <th>50%</th>\n",
       "      <td>-3.246863e-01</td>\n",
       "      <td>-1.031585e-01</td>\n",
       "      <td>-2.454058e-01</td>\n",
       "      <td>-1.845070e-01</td>\n",
       "      <td>-5.209800e-02</td>\n",
       "    </tr>\n",
       "    <tr>\n",
       "      <th>75%</th>\n",
       "      <td>2.930019e-01</td>\n",
       "      <td>5.807442e-01</td>\n",
       "      <td>1.759625e-01</td>\n",
       "      <td>4.618090e-01</td>\n",
       "      <td>6.386829e-01</td>\n",
       "    </tr>\n",
       "    <tr>\n",
       "      <th>max</th>\n",
       "      <td>4.729126e+00</td>\n",
       "      <td>3.544323e+00</td>\n",
       "      <td>5.021698e+00</td>\n",
       "      <td>4.081179e+00</td>\n",
       "      <td>3.263650e+00</td>\n",
       "    </tr>\n",
       "  </tbody>\n",
       "</table>\n",
       "</div>"
      ],
      "text/plain": [
       "                  0             1             2             3             4\n",
       "count  3.580000e+02  3.580000e+02  3.580000e+02  3.580000e+02  3.580000e+02\n",
       "mean   2.977134e-17  1.628120e-17  2.356898e-17 -1.690144e-16  2.459237e-16\n",
       "std    1.001400e+00  1.001400e+00  1.001400e+00  1.001400e+00  1.001400e+00\n",
       "min   -9.985280e-01 -1.470964e+00 -8.774583e-01 -1.477139e+00 -2.400753e+00\n",
       "25%   -6.616071e-01 -7.870613e-01 -6.667742e-01 -7.015598e-01 -7.428789e-01\n",
       "50%   -3.246863e-01 -1.031585e-01 -2.454058e-01 -1.845070e-01 -5.209800e-02\n",
       "75%    2.930019e-01  5.807442e-01  1.759625e-01  4.618090e-01  6.386829e-01\n",
       "max    4.729126e+00  3.544323e+00  5.021698e+00  4.081179e+00  3.263650e+00"
      ]
     },
     "execution_count": 51,
     "metadata": {},
     "output_type": "execute_result"
    }
   ],
   "source": [
    "# Let's investigate what we did\n",
    "pd.DataFrame(X_train).describe()"
   ]
  },
  {
   "cell_type": "code",
   "execution_count": 52,
   "metadata": {},
   "outputs": [
    {
     "name": "stdout",
     "output_type": "stream",
     "text": [
      "0.2583333333333333\n"
     ]
    }
   ],
   "source": [
    "# Calculate testing error.\n",
    "knn = KNeighborsClassifier(n_neighbors=15)\n",
    "knn.fit(X_train, y_train)\n",
    "\n",
    "y_pred_class = knn.predict(X_test)\n",
    "testing_accuracy = metrics.accuracy_score(y_test, y_pred_class)\n",
    "testing_error = 1 - testing_accuracy\n",
    "\n",
    "print(testing_error)"
   ]
  },
  {
   "cell_type": "code",
   "execution_count": null,
   "metadata": {},
   "outputs": [],
   "source": []
  },
  {
   "cell_type": "code",
   "execution_count": null,
   "metadata": {},
   "outputs": [],
   "source": []
  }
 ],
 "metadata": {
  "kernelspec": {
   "display_name": "Python 3",
   "language": "python",
   "name": "python3"
  },
  "language_info": {
   "codemirror_mode": {
    "name": "ipython",
    "version": 3
   },
   "file_extension": ".py",
   "mimetype": "text/x-python",
   "name": "python",
   "nbconvert_exporter": "python",
   "pygments_lexer": "ipython3",
   "version": "3.7.1"
  }
 },
 "nbformat": 4,
 "nbformat_minor": 1
}
